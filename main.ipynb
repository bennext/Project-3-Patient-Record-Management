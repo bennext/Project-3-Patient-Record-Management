{
 "cells": [
  {
   "cell_type": "code",
   "execution_count": 1,
   "metadata": {},
   "outputs": [
    {
     "name": "stdout",
     "output_type": "stream",
     "text": [
      "Patient records added\n"
     ]
    }
   ],
   "source": [
    "from patient_record_mgmt import PatientRecordManagementSystem \n",
    "import graphviz\n",
    "\n",
    "Patient_Management = PatientRecordManagementSystem()\n",
    "\n",
    "Patient_Management.build_tree_from_csv(\"data/patient_records.csv\")\n",
    "\n",
    "print(\"Patient records added\")"
   ]
  },
  {
   "cell_type": "markdown",
   "metadata": {},
   "source": [
    "Output\n",
    "\n",
    "In main.ipynb, you will be creating the BST from the data in the CSV file. Then display all the records. Then visualize the tree using Graphviz. Be sure to name your saved image file with the word \"initial\" in it.\n",
    "\n",
    "Next, search for 3 patient records: 2, 25, and 47. Print their records.\n",
    "\n",
    "Now, delete records 3, 10 and 30. Display all records again and visualize the tree afterwards. Be sure to name your saved image file with the word \"after-deletion\" in it.\n",
    "\n",
    "Now, insert these records below into the BST. Display all records and visualize the tree afterwards. Be sure to name your saved image file with the word \"after-insertion\" in it. "
   ]
  },
  {
   "cell_type": "code",
   "execution_count": 2,
   "metadata": {},
   "outputs": [
    {
     "name": "stdout",
     "output_type": "stream",
     "text": [
      "None\n",
      "<patient_record_mgmt.PatientRecord object at 0x000001616D0A7BF0>\n",
      "None\n",
      "deleted 3\n",
      "('1', 'Peter Parker', '35', 'Flu', '120/80', '70', '37.0')\n",
      "('10', 'Professor X', '29', 'Pneumonia', '130/85', '75', '37.3')\n",
      "('12', 'Carol Danvers', '38', 'Hypertension', '110/70', '65', '36.9')\n",
      "('15', 'Thor Odinson', '35', 'Cold', '115/75', '68', '37.0')\n",
      "('16', 'Mantis', '28', 'Cancer', '135/88', '77', '37.2')\n",
      "('17', 'Steve Rogers', '55', 'Heart Disease', '145/92', '82', '36.7')\n",
      "('19', 'Nebula', '32', 'Pneumonia', '120/80', '70', '36.8')\n",
      "('20', 'Vision', '40', 'Diabetes', '140/90', '80', '37.3')\n",
      "('22', 'Pepper Potts', '38', 'Asthma', '120/80', '70', '36.9')\n",
      "('23', 'Bruce Banner', '50', 'Arthritis', '125/78', '72', '37.1')\n",
      "('24', 'Maria Hill', '45', 'Cold', '115/75', '68', '36.8')\n",
      "('25', 'Natasha Romanoff', '35', 'Cancer', '135/88', '77', '37.0')\n",
      "('27', 'Stephen Strange', '55', 'Flu', '130/85', '75', '36.7')\n",
      "('28', 'Star-Lord', '60', 'Pneumonia', '120/80', '70', '37.1')\n",
      "('29', \"T'Challa\", '32', 'Diabetes', '140/90', '80', '36.8')\n",
      "('3', 'Joan Smith', 33, 'Anxiety', '115/75', 68, 37.1)\n",
      "('3', 'Clint Barton', '45', 'Hypertension', '140/90', '80', '36.9')\n",
      "('36', 'Nick Fury', '28', 'Flu', '130/85', '75', '37.2')\n",
      "('39', 'Sam Wilson', '32', 'Hypertension', '110/70', '65', '36.8')\n",
      "('40', 'Bucky Barnes', '40', 'Asthma', '120/80', '70', '37.3')\n",
      "('41', 'Groot', '65', 'Arthritis', '125/78', '72', '37.0')\n",
      "('45', 'Loki Laufeyson', '35', 'Flu', '130/85', '75', '37.0')\n",
      "('5', 'Tony Stark', '60', 'Arthritis', '125/78', '72', '36.7')\n",
      "('50', 'Gamora', '40', 'Arthritis', '125/78', '72', '37.3')\n",
      "('51', 'Jacob Marley', 40, 'Migraine', '120/80', 70, 37.0)\n",
      "('58', 'Robert Shea', 55, 'Back Pain', '130/85', 75, 36.8)\n",
      "('6', 'Natasha Romanoff', '32', 'Cold', '115/75', '68', '37.1')\n",
      "('7', 'Scott Lang', '47', 'Cancer', '135/88', '77', '37.0')\n",
      "('8', 'Drax', '55', 'Heart Disease', '145/92', '82', '36.8')\n",
      "('9', 'Wade Wilson', '40', 'Flu', '120/80', '70', '36.9')\n",
      "end\n"
     ]
    }
   ],
   "source": [
    "this_graphviz = Patient_Management.visualize_tree()\n",
    "this_graphviz.render()\n",
    "# creates the viz\n",
    "\n",
    "# the search for 3\n",
    "\n",
    "searchfor3patientrecords = Patient_Management.search_patient_record(\"2\")\n",
    "print(searchfor3patientrecords)\n",
    "\n",
    "searchfor3patientrecords = Patient_Management.search_patient_record(\"25\")\n",
    "print(searchfor3patientrecords)\n",
    "\n",
    "searchfor3patientrecords = Patient_Management.search_patient_record(\"47\")\n",
    "print(searchfor3patientrecords)\n",
    "\n",
    "# now delete 3\n",
    "#Now, delete records 3, 10 and 30. \n",
    "# Display all records again and visualize the tree afterwards. \n",
    "# Be sure to name your saved image file with the word \"after-deletion\" in it.\n",
    "\n",
    "Patient_Management.delete_patient_record(\"3\")\n",
    "Patient_Management.delete_patient_record(\"10\")\n",
    "Patient_Management.delete_patient_record(\"30\")\n",
    "print(\"deleted 3\")\n",
    "\n",
    "this_graphviz2 = Patient_Management.visualize_tree()\n",
    "this_graphviz2.render()\n",
    "\n",
    "\n",
    "new_records = [\n",
    "\n",
    " (51, \"Jacob Marley\", 40, \"Migraine\", \"120/80\", 70, 37.0),\n",
    "\n",
    " (58, \"Robert Shea\", 55, \"Back Pain\", \"130/85\", 75, 36.8),\n",
    "\n",
    " (3, \"Joan Smith\", 33, \"Anxiety\", \"115/75\", 68, 37.1)\n",
    "\n",
    "]\n",
    "\n",
    "Patient_Management.add_patient_record(str(new_records[0][0]), new_records[0][1], new_records[0][2], new_records[0][3], new_records[0][4], new_records[0][5], new_records[0][6])\n",
    "Patient_Management.add_patient_record(str(new_records[1][0]), new_records[1][1], new_records[1][2], new_records[1][3], new_records[1][4], new_records[1][5], new_records[1][6])\n",
    "Patient_Management.add_patient_record(str(new_records[2][0]), new_records[2][1], new_records[2][2], new_records[2][3], new_records[2][4], new_records[2][5], new_records[2][6])\n",
    "\n",
    "this_graphviz3 = Patient_Management.visualize_tree()\n",
    "this_graphviz3.render()\n",
    "\n",
    "\n",
    "Patient_Management.display_all_records()\n",
    "\n",
    "\n",
    "print(\"end\")\n"
   ]
  }
 ],
 "metadata": {
  "kernelspec": {
   "display_name": "base",
   "language": "python",
   "name": "python3"
  },
  "language_info": {
   "codemirror_mode": {
    "name": "ipython",
    "version": 3
   },
   "file_extension": ".py",
   "mimetype": "text/x-python",
   "name": "python",
   "nbconvert_exporter": "python",
   "pygments_lexer": "ipython3",
   "version": "3.12.4"
  }
 },
 "nbformat": 4,
 "nbformat_minor": 2
}
